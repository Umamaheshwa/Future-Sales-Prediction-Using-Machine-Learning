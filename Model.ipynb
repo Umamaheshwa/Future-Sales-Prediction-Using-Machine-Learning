{
 "cells": [
  {
   "cell_type": "code",
   "execution_count": 1,
   "id": "1f16b105",
   "metadata": {},
   "outputs": [],
   "source": [
    "import gradio as gr\n",
    "import pandas as pd\n",
    "import pickle\n",
    "from datetime import date,timedelta,datetime"
   ]
  },
  {
   "cell_type": "code",
   "execution_count": 2,
   "id": "422541ef",
   "metadata": {},
   "outputs": [
    {
     "name": "stdout",
     "output_type": "stream",
     "text": [
      "Running on local URL:  http://127.0.0.1:7860/\n",
      "Running on public URL: https://57270.gradio.app\n",
      "\n",
      "This share link expires in 72 hours. For free permanent hosting, check out Spaces (https://huggingface.co/spaces)\n"
     ]
    },
    {
     "data": {
      "text/html": [
       "\n",
       "        <iframe\n",
       "            width=\"900\"\n",
       "            height=\"500\"\n",
       "            src=\"https://57270.gradio.app\"\n",
       "            frameborder=\"0\"\n",
       "            allowfullscreen\n",
       "        ></iframe>\n",
       "        "
      ],
      "text/plain": [
       "<IPython.lib.display.IFrame at 0x273c32096a0>"
      ]
     },
     "metadata": {},
     "output_type": "display_data"
    },
    {
     "data": {
      "text/plain": [
       "(<fastapi.applications.FastAPI at 0x273c167d970>,\n",
       " 'http://127.0.0.1:7860/',\n",
       " 'https://57270.gradio.app')"
      ]
     },
     "execution_count": 2,
     "metadata": {},
     "output_type": "execute_result"
    },
    {
     "name": "stderr",
     "output_type": "stream",
     "text": [
      "Traceback (most recent call last):\n",
      "  File \"C:\\Users\\reach\\anaconda3\\lib\\site-packages\\gradio\\routes.py\", line 214, in predict\n",
      "    output = await run_in_threadpool(app.launchable.process_api, body, username)\n",
      "  File \"C:\\Users\\reach\\anaconda3\\lib\\site-packages\\starlette\\concurrency.py\", line 39, in run_in_threadpool\n",
      "    return await anyio.to_thread.run_sync(func, *args)\n",
      "  File \"C:\\Users\\reach\\anaconda3\\lib\\site-packages\\anyio\\to_thread.py\", line 28, in run_sync\n",
      "    return await get_asynclib().run_sync_in_worker_thread(func, *args, cancellable=cancellable,\n",
      "  File \"C:\\Users\\reach\\anaconda3\\lib\\site-packages\\anyio\\_backends\\_asyncio.py\", line 818, in run_sync_in_worker_thread\n",
      "    return await future\n",
      "  File \"C:\\Users\\reach\\anaconda3\\lib\\site-packages\\anyio\\_backends\\_asyncio.py\", line 754, in run\n",
      "    result = context.run(func, *args)\n",
      "  File \"C:\\Users\\reach\\anaconda3\\lib\\site-packages\\gradio\\interface.py\", line 557, in process_api\n",
      "    prediction, durations = self.process(raw_input)\n",
      "  File \"C:\\Users\\reach\\anaconda3\\lib\\site-packages\\gradio\\interface.py\", line 588, in process\n",
      "    predictions, durations = self.run_prediction(\n",
      "  File \"C:\\Users\\reach\\anaconda3\\lib\\site-packages\\gradio\\interface.py\", line 517, in run_prediction\n",
      "    prediction = predict_fn(*processed_input)\n",
      "  File \"<ipython-input-2-16f4be607d8e>\", line 9, in fn\n",
      "    df.drop([\"Product_Category_3\"],  axis=1, inplace=True)\n",
      "  File \"C:\\Users\\reach\\anaconda3\\lib\\site-packages\\pandas\\core\\frame.py\", line 4308, in drop\n",
      "    return super().drop(\n",
      "  File \"C:\\Users\\reach\\anaconda3\\lib\\site-packages\\pandas\\core\\generic.py\", line 4153, in drop\n",
      "    obj = obj._drop_axis(labels, axis, level=level, errors=errors)\n",
      "  File \"C:\\Users\\reach\\anaconda3\\lib\\site-packages\\pandas\\core\\generic.py\", line 4188, in _drop_axis\n",
      "    new_axis = axis.drop(labels, errors=errors)\n",
      "  File \"C:\\Users\\reach\\anaconda3\\lib\\site-packages\\pandas\\core\\indexes\\base.py\", line 5591, in drop\n",
      "    raise KeyError(f\"{labels[mask]} not found in axis\")\n",
      "KeyError: \"['Product_Category_3'] not found in axis\"\n",
      "Socket exception: An existing connection was forcibly closed by the remote host (10054)\n"
     ]
    }
   ],
   "source": [
    "def stay(Stay_In_Current_City_Years):\n",
    "    if Stay_In_Current_City_Years == '4+':\n",
    "        return 4\n",
    "    else:\n",
    "        return Stay_In_Current_City_Years\n",
    "def fn(inputs):\n",
    "    df=pd.read_csv(inputs.name)\n",
    "    df=df.iloc[:10,:]\n",
    "    df.drop([\"Product_Category_3\"],  axis=1, inplace=True)\n",
    "    df[\"Product_Category_2\"].fillna(df[\"Product_Category_2\"].median(), inplace = True)\n",
    "    gender_dict = {'F':0, 'M':1}\n",
    "    df[\"Gender\"] = df[\"Gender\"].apply(lambda x: gender_dict[x])\n",
    "    age_dict={'0-17':0, '18-25':1, '26-35':2, '36-45':3, '46-50':4, '51-55':5, '55+':6}\n",
    "    df['Age']=df['Age'].apply(lambda x:age_dict[x])\n",
    "    city={'A':0,'B':1,'C':2}\n",
    "    df['City_Category']=df['City_Category'].apply(lambda x: city[x])\n",
    "    df['Stay_In_Current_City_Years'] = df['Stay_In_Current_City_Years'].apply(stay).astype(int) \n",
    "    predicted= df[['User_ID','Product_ID']]\n",
    "    df=df.drop(['User_ID','Product_ID'],axis=1)\n",
    "    pickle_file = open('model.pkl', 'rb')     \n",
    "    model = pickle.load(pickle_file)\n",
    "    test_pred = model.predict(df)\n",
    "    predicted['Predicted_Purchase']=test_pred\n",
    "    filename1 = datetime.now().strftime(\"%Y_%m_%d\")\n",
    "    predicted.to_csv(filename1+\"_predict.csv\",index=False)\n",
    "    return predicted\n",
    "file=gr.inputs.File(file_count=\"single\", type=\"file\", label=None, optional=False)\n",
    "output=gr.outputs.Dataframe()\n",
    "gui = gr.Interface(fn=fn,\n",
    "                   inputs=file,\n",
    "                   outputs=[output],\n",
    "                  title=\"Future Sales Prediction Using \\n Machine Learning\",\n",
    "                  article=\"\")\n",
    "gui.launch(share=True)\n"
   ]
  },
  {
   "cell_type": "code",
   "execution_count": null,
   "id": "be43d492",
   "metadata": {},
   "outputs": [],
   "source": []
  }
 ],
 "metadata": {
  "kernelspec": {
   "display_name": "Python 3",
   "language": "python",
   "name": "python3"
  },
  "language_info": {
   "codemirror_mode": {
    "name": "ipython",
    "version": 3
   },
   "file_extension": ".py",
   "mimetype": "text/x-python",
   "name": "python",
   "nbconvert_exporter": "python",
   "pygments_lexer": "ipython3",
   "version": "3.8.8"
  }
 },
 "nbformat": 4,
 "nbformat_minor": 5
}
